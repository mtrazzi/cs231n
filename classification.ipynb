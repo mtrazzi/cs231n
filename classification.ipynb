{
 "cells": [
  {
   "cell_type": "markdown",
   "metadata": {},
   "source": [
    "writing my own code (COPY-PASTE NOT ALLOWED) for cs231n's [classification notes](https://cs231n.github.io/classification/)"
   ]
  },
  {
   "cell_type": "code",
   "execution_count": 10,
   "metadata": {},
   "outputs": [],
   "source": [
    "import numpy as np\n",
    "import pickle\n",
    "import os"
   ]
  },
  {
   "cell_type": "code",
   "execution_count": 38,
   "metadata": {},
   "outputs": [],
   "source": [
    "path = 'data/cifar-10-batches-py'\n",
    "train = !ls $path | grep data\n",
    "test = !ls $path | grep test"
   ]
  },
  {
   "cell_type": "code",
   "execution_count": 60,
   "metadata": {},
   "outputs": [],
   "source": [
    "def load_file(fn):\n",
    "    with open(fn, 'rb') as f:\n",
    "        data = pickle.load(f, encoding='bytes')\n",
    "    return data"
   ]
  },
  {
   "cell_type": "code",
   "execution_count": 61,
   "metadata": {},
   "outputs": [],
   "source": [
    "def load_batch(batch_id):\n",
    "    return load_file(os.path.join(path, batch_id))"
   ]
  },
  {
   "cell_type": "code",
   "execution_count": 90,
   "metadata": {},
   "outputs": [],
   "source": [
    "dicts_train = [load_batch(train_file) for train_file in train]\n",
    "dicts_test = [load_batch(test_file) for test_file in test]\n",
    "X_train, Y_train = zip(*[(d[b'data'], d[b'labels']) for d in dicts_train])\n",
    "X_test, Y_test = zip(*[(d[b'data'], d[b'labels']) for d in dicts_train])"
   ]
  }
 ],
 "metadata": {
  "kernelspec": {
   "display_name": "Python 3",
   "language": "python",
   "name": "python3"
  },
  "language_info": {
   "codemirror_mode": {
    "name": "ipython",
    "version": 3
   },
   "file_extension": ".py",
   "mimetype": "text/x-python",
   "name": "python",
   "nbconvert_exporter": "python",
   "pygments_lexer": "ipython3",
   "version": "3.6.9"
  }
 },
 "nbformat": 4,
 "nbformat_minor": 4
}
