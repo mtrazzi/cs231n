{
 "cells": [
  {
   "cell_type": "code",
   "execution_count": 5,
   "metadata": {},
   "outputs": [],
   "source": [
    "import numpy as np\n",
    "import pickle\n",
    "import os"
   ]
  },
  {
   "cell_type": "code",
   "execution_count": 11,
   "metadata": {},
   "outputs": [],
   "source": [
    "path = '../data/cifar-10-batches-py'\n",
    "train = !ls $path | grep data\n",
    "test = !ls $path | grep test"
   ]
  },
  {
   "cell_type": "code",
   "execution_count": 12,
   "metadata": {},
   "outputs": [],
   "source": [
    "def load_file(fn):\n",
    "    with open(fn, 'rb') as f:\n",
    "        data = pickle.load(f, encoding='bytes')\n",
    "    return data"
   ]
  },
  {
   "cell_type": "code",
   "execution_count": 13,
   "metadata": {},
   "outputs": [],
   "source": [
    "def load_batch(batch_id):\n",
    "    return load_file(os.path.join(path, batch_id))"
   ]
  },
  {
   "cell_type": "code",
   "execution_count": 14,
   "metadata": {},
   "outputs": [],
   "source": [
    "def load_CIFAR10():\n",
    "    dicts_train = [load_batch(train_file) for train_file in train]\n",
    "    dicts_test = [load_batch(test_file) for test_file in test]\n",
    "    X_train_l, Y_train_l = zip(*[(d[b'data'], d[b'labels']) for d in dicts_train])\n",
    "    X_test_l, Y_test_l = zip(*[(d[b'data'], d[b'labels']) for d in dicts_test])\n",
    "    def concat(data_l): return np.concatenate([data for data in data_l], axis=0)\n",
    "    return map(concat, [X_train_l, Y_train_l, X_test_l, Y_test_l])"
   ]
  },
  {
   "cell_type": "code",
   "execution_count": 28,
   "metadata": {},
   "outputs": [],
   "source": [
    "Xtr, Ytr, Xte, Yte = load_CIFAR10()\n",
    "Xtr_rows, Xte_rows = [X.reshape(X.shape[0], 32 * 32 * 3) for X in [Xtr, Xte]]"
   ]
  },
  {
   "cell_type": "code",
   "execution_count": 62,
   "metadata": {},
   "outputs": [],
   "source": [
    "class NearestNeighbor:\n",
    "    def __init__(self):\n",
    "        pass\n",
    "    \n",
    "    def train(self, X, Y):\n",
    "        self.Xtr = X\n",
    "        self.Ytr = Y\n",
    "\n",
    "    def predict(self, X):\n",
    "        num_test = X.shape[0]\n",
    "        Ypred = np.zeros(X.shape[0], dtype=self.Ytr.dtype)\n",
    "        for i in range(num_test):\n",
    "#             distances = np.sum(np.abs(self.Xtr - X[i,:]), axis=1)\n",
    "            distances = np.sqrt(np.sum(np.square(self.Xtr - X[i, :]), axis=1))\n",
    "            min_index = np.argmin(distances)\n",
    "            Ypred[i] = self.Ytr[min_index]\n",
    "        return Ypred"
   ]
  },
  {
   "cell_type": "code",
   "execution_count": 63,
   "metadata": {},
   "outputs": [
    {
     "name": "stdout",
     "output_type": "stream",
     "text": [
      "accuracy: 0.29\n",
      "took 24.32280445098877s\n"
     ]
    }
   ],
   "source": [
    "import time\n",
    "nn = NearestNeighbor()\n",
    "nn.train(Xtr_rows, Ytr)\n",
    "start = time.time()\n",
    "Yte_predict = nn.predict(X_test[:100])\n",
    "print(f\"accuracy: {np.mean(Yte_predict[:100] == Yte[:100])}\")\n",
    "print(f\"took {time.time()-start}s\")"
   ]
  }
 ],
 "metadata": {
  "kernelspec": {
   "display_name": "Python 3",
   "language": "python",
   "name": "python3"
  },
  "language_info": {
   "codemirror_mode": {
    "name": "ipython",
    "version": 3
   },
   "file_extension": ".py",
   "mimetype": "text/x-python",
   "name": "python",
   "nbconvert_exporter": "python",
   "pygments_lexer": "ipython3",
   "version": "3.6.9"
  }
 },
 "nbformat": 4,
 "nbformat_minor": 4
}
