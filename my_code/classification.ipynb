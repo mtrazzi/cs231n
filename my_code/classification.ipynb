{
 "cells": [
  {
   "cell_type": "markdown",
   "metadata": {},
   "source": [
    "writing my own code (COPY-PASTING CODE NOT ALLOWED, DOC IS OK) for cs231n's [classification notes](https://cs231n.github.io/classification/)\n",
    "\n",
    "this notebook is for: https://cs231n.github.io/classification/"
   ]
  },
  {
   "cell_type": "code",
   "execution_count": null,
   "metadata": {},
   "outputs": [],
   "source": [
    "import numpy as np\n",
    "import matplotlib.pyplot as plt"
   ]
  },
  {
   "cell_type": "code",
   "execution_count": null,
   "metadata": {},
   "outputs": [],
   "source": [
    "from utils import load_cifar\n",
    "X_train, Y_train, X_test, Y_test = load_cifar()"
   ]
  },
  {
   "cell_type": "code",
   "execution_count": null,
   "metadata": {},
   "outputs": [],
   "source": [
    "class NNClassifier:\n",
    "    def __init__(self, X, Y):\n",
    "        self.X = X\n",
    "        self.Y = Y\n",
    "\n",
    "    def l1(self, a, b):\n",
    "        return np.abs(a - b).sum()\n",
    "        \n",
    "    def get_nearest(self, x_0, k=10):\n",
    "        dist = [self.l1(x, x_0) for x in self.X]\n",
    "        idxs = np.arange(self.X.shape[0])\n",
    "        _, sort_idx = zip(*sorted(zip(dist, idxs)))\n",
    "        return np.array(sort_idx)[:k]\n",
    "\n",
    "    def show_closest(self, x_0, k=10):\n",
    "        for idx in self.get_nearest(x_0, k):\n",
    "            plt.figure()\n",
    "            plt.imshow(X_train[idx].reshape(3, 32, 32).T)\n",
    "\n",
    "    def predict(self, x_0, k=10):\n",
    "        return np.argmax(np.bincount(self.Y[self.get_nearest(x_0, k)]))\n",
    "\n",
    "    def name(self, x_0, k=10):\n",
    "        return label_names[self.predict_class(x_0, k)]"
   ]
  },
  {
   "cell_type": "code",
   "execution_count": null,
   "metadata": {},
   "outputs": [],
   "source": [
    "clf = NNClassifier(X_train, Y_train)"
   ]
  },
  {
   "cell_type": "code",
   "execution_count": null,
   "metadata": {},
   "outputs": [],
   "source": [
    "# Sample\n",
    "plt.imshow(X_test[0].reshape(3, 32, 32).T)"
   ]
  },
  {
   "cell_type": "code",
   "execution_count": null,
   "metadata": {},
   "outputs": [],
   "source": [
    "# 10 closest in train set\n",
    "clf.show_closest(X_test[0])"
   ]
  },
  {
   "cell_type": "code",
   "execution_count": null,
   "metadata": {},
   "outputs": [],
   "source": [
    "def get_accuracy(clf, X_eval, Y_eval, k=10):\n",
    "    return np.sum([clf.predict(x, k) == y for (x, y) in zip(X_eval, Y_eval)]) / X_eval.shape[0]"
   ]
  },
  {
   "cell_type": "code",
   "execution_count": null,
   "metadata": {},
   "outputs": [],
   "source": [
    "import time\n",
    "start = time.time()\n",
    "n_ex = 10\n",
    "acc = get_accuracy(clf, X_test[:n_ex], Y_test[:n_ex])\n",
    "print(f\"for {n_ex} examples, accuracy is {100 * acc}% (took {time.time()-start:.2f}s for {n_ex})\")"
   ]
  }
 ],
 "metadata": {
  "kernelspec": {
   "display_name": "Python 3",
   "language": "python",
   "name": "python3"
  },
  "language_info": {
   "codemirror_mode": {
    "name": "ipython",
    "version": 3
   },
   "file_extension": ".py",
   "mimetype": "text/x-python",
   "name": "python",
   "nbconvert_exporter": "python",
   "pygments_lexer": "ipython3",
   "version": "3.7.4"
  }
 },
 "nbformat": 4,
 "nbformat_minor": 4
}