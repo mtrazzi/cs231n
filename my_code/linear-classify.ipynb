{
 "cells": [
  {
   "cell_type": "markdown",
   "metadata": {},
   "source": [
    "writing my own code (COPY-PASTING CODE NOT ALLOWED, CODE IS OK) for cs231n's classification notes\n",
    "\n",
    "this notebook is for: https://cs231n.github.io/linear-classify/"
   ]
  },
  {
   "cell_type": "code",
   "execution_count": 3,
   "metadata": {},
   "outputs": [],
   "source": [
    "import numpy as np\n",
    "import matplotlib.pyplot as plt\n",
    "from IPython.core.debugger import set_trace"
   ]
  },
  {
   "cell_type": "code",
   "execution_count": 4,
   "metadata": {},
   "outputs": [],
   "source": [
    "from utils import load_cifar\n",
    "Xtr_raw, Ytr, Xte_raw, Yte = load_cifar()"
   ]
  },
  {
   "cell_type": "code",
   "execution_count": 25,
   "metadata": {},
   "outputs": [],
   "source": [
    "# adding biases\n",
    "def add_bias(X): return np.hstack([X, np.ones((X.shape[0], 1))])\n",
    "def preprocess(X): return (X - X.mean()) / (X.max() - X.min())\n",
    "Xtr, Xte = map(add_bias, map(preprocess, [Xtr_raw, Xte_raw]))"
   ]
  },
  {
   "cell_type": "code",
   "execution_count": 29,
   "metadata": {},
   "outputs": [],
   "source": [
    "labels = list(set(np.unique(Ytr)).union(set(np.unique(Yte))))\n",
    "m, d = Xtr.shape\n",
    "ncl = len(labels)\n",
    "W = np.random.randn(ncl, d) * 1e-4"
   ]
  },
  {
   "cell_type": "code",
   "execution_count": 32,
   "metadata": {},
   "outputs": [],
   "source": [
    "class Classifier:\n",
    "    def __init__(self, delta=1):\n",
    "        self.delta = delta\n",
    "\n",
    "    def L_i(self, x, y, W):\n",
    "        \"\"\"\n",
    "        unvectorized version. Compute the multiclass svm loss for a single example (x,y)\n",
    "        - x is a column vector representing an image (e.g. 3073 x 1 in CIFAR-10)\n",
    "            with an appended bias dimension in the 3073-rd position (i.e. bias trick)\n",
    "        - y is an integer giving index of correct class (e.g. between 0 and 9 in CIFAR-10)\n",
    "        - W is the weight matrix (e.g. 10 x 3073 in CIFAR-10)\n",
    "        \"\"\"\n",
    "        score = np.dot(W, x)\n",
    "        s = 0\n",
    "        for j in range(W.shape[0]):\n",
    "            if j != y:\n",
    "                s += max(0, score[j] - score[y] + self.delta)\n",
    "        return s\n",
    "\n",
    "    def L_i_vectorized(self, x, y, W):\n",
    "        \"\"\"\n",
    "        A faster half-vectorized implementation. half-vectorized\n",
    "        refers to the fact that for a single example the implementation contains\n",
    "        no for loops, but there is still one loop over the examples (outside this function)\n",
    "        \"\"\"\n",
    "        score = np.dot(W, x)\n",
    "        return np.sum(np.maximum(0, score - score[y] + self.delta)) - self.delta\n",
    "\n",
    "    def L(self, X, y, W):\n",
    "        \"\"\"\n",
    "        fully-vectorized implementation :\n",
    "        - X holds all the training examples as columns (e.g. 3073 x 50,000 in CIFAR-10)\n",
    "        - y is array of integers specifying correct class (e.g. 50,000-D array)\n",
    "        - W are weights (e.g. 10 x 3073)\n",
    "        \"\"\"\n",
    "        score = np.dot(W, X)\n",
    "        score_lab = score[y, np.arange(X.shape[1])]\n",
    "        return (np.sum(np.maximum(0, score - score_lab + self.delta)) - self.delta * y.shape[0]) / X.shape[1]"
   ]
  },
  {
   "cell_type": "code",
   "execution_count": 33,
   "metadata": {
    "tags": []
   },
   "outputs": [
    {
     "output_type": "stream",
     "name": "stdout",
     "text": "basic: 9.0129304290142\nsemi vectorized: 9.0129304290142\nvectorized: 9.000471991899438\n"
    }
   ],
   "source": [
    "clf = Classifier()\n",
    "print(f\"basic: {clf.L_i(Xtr[0], Ytr[0], W)}\")\n",
    "print(f\"semi vectorized: {clf.L_i_vectorized(Xtr[0], Ytr[0], W)}\")\n",
    "print(f\"vectorized: {clf.L(Xtr.T, Ytr, W)}\")"
   ]
  }
 ],
 "metadata": {
  "kernelspec": {
   "display_name": "Python 3.7.4 64-bit ('cs231n': venv)",
   "language": "python",
   "name": "python37464bitcs231nvenvc0f208fee8534db4965080240acd3921"
  },
  "language_info": {
   "codemirror_mode": {
    "name": "ipython",
    "version": 3
   },
   "file_extension": ".py",
   "mimetype": "text/x-python",
   "name": "python",
   "nbconvert_exporter": "python",
   "pygments_lexer": "ipython3",
   "version": "3.7.4-final"
  }
 },
 "nbformat": 4,
 "nbformat_minor": 4
}