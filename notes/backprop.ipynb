{
 "cells": [
  {
   "cell_type": "markdown",
   "metadata": {},
   "source": [
    "writing my own code (COPY-PASTING CODE NOT ALLOWED, DOC IS OK) for cs231n's classification notes\n",
    "\n",
    "this notebook is for: https://cs231n.github.io/optimization-2/"
   ]
  },
  {
   "cell_type": "code",
   "execution_count": 1,
   "metadata": {},
   "outputs": [],
   "source": [
    "import numpy as np"
   ]
  },
  {
   "cell_type": "code",
   "execution_count": 2,
   "metadata": {},
   "outputs": [],
   "source": [
    "x, y, z = -2, 5, -4\n",
    "\n",
    "q = x + y\n",
    "f = q * z"
   ]
  },
  {
   "cell_type": "code",
   "execution_count": 3,
   "metadata": {},
   "outputs": [
    {
     "output_type": "execute_result",
     "data": {
      "text/plain": "(3, -12)"
     },
     "metadata": {},
     "execution_count": 3
    }
   ],
   "source": [
    "q, f"
   ]
  },
  {
   "cell_type": "code",
   "execution_count": 6,
   "metadata": {
    "tags": []
   },
   "outputs": [
    {
     "output_type": "stream",
     "name": "stdout",
     "text": "dfdz=3\ndfdq=-4\n"
    }
   ],
   "source": [
    "dfdz = q\n",
    "dfdq = z\n",
    "print(f\"dfdz={dfdz}\")\n",
    "print(f\"dfdq={dfdq}\")"
   ]
  },
  {
   "cell_type": "code",
   "execution_count": 7,
   "metadata": {},
   "outputs": [],
   "source": [
    "dqdx = 1.0\n",
    "dqdy = 1.0"
   ]
  },
  {
   "cell_type": "code",
   "execution_count": 8,
   "metadata": {},
   "outputs": [],
   "source": [
    "dfdx = dfdq * dqdx\n",
    "dfdy = dfdq * dqdy"
   ]
  },
  {
   "cell_type": "code",
   "execution_count": 9,
   "metadata": {},
   "outputs": [
    {
     "output_type": "execute_result",
     "data": {
      "text/plain": "(-4.0, -4.0)"
     },
     "metadata": {},
     "execution_count": 9
    }
   ],
   "source": [
    "dfdx, dfdy"
   ]
  },
  {
   "cell_type": "code",
   "execution_count": 10,
   "metadata": {},
   "outputs": [],
   "source": [
    "w = [2, -3, -3]\n",
    "x = [-1, -2]\n",
    "\n",
    "dot = np.dot(w, x + [1])\n",
    "f = 1 / (1 + np.exp(-dot))\n",
    "\n",
    "ddot = (1 - f) * f\n",
    "ddotdx0, ddotdx1 = w[0], w[1]\n",
    "ddotdw0, ddotdw1, ddotdw2 = x[0], x[1], 1.0\n",
    "dx = [ddotdx0 * ddot, ddotdx1 * ddot]\n",
    "dw = [ddotdw0 * ddot, ddotdw1 * ddot, ddotdw2 * ddot]"
   ]
  },
  {
   "cell_type": "code",
   "execution_count": 11,
   "metadata": {},
   "outputs": [
    {
     "output_type": "execute_result",
     "data": {
      "text/plain": "([-0.19661193324148185, -0.3932238664829637, 0.19661193324148185],\n [0.3932238664829637, -0.5898357997244456])"
     },
     "metadata": {},
     "execution_count": 11
    }
   ],
   "source": [
    "dw, dx"
   ]
  },
  {
   "cell_type": "code",
   "execution_count": 12,
   "metadata": {},
   "outputs": [],
   "source": [
    "x, y = 3, -4\n",
    "def sig(u): return 1 / (1 + np.exp(-u))\n",
    "sigy = sig(y)\n",
    "num = x + sigy\n",
    "sigx = sig(x)\n",
    "xpy = x + y\n",
    "xpysqr = xpy ** 2\n",
    "den = sigx + xpysqr\n",
    "invden = 1 / den\n",
    "f = num * invden"
   ]
  },
  {
   "cell_type": "code",
   "execution_count": 14,
   "metadata": {},
   "outputs": [],
   "source": [
    "dnum = invden\n",
    "dinvden = num\n",
    "dden = (-1 / (den ** 2)) * dinvden\n",
    "dsigx = 1 * dden\n",
    "dxpysqr = 1 * dden\n",
    "dxpy = 2 * xpy * dxpysqr\n",
    "dx = dy = dxpy\n",
    "dx += ((1 - sigx) * sigx) * dsigx \n",
    "# addition because if we renamed this variable u, then did all our computation, at the end it would have this effect on f, and when we would rename it back to x we would have to sum\n",
    "dx += dnum\n",
    "dsigy = dnum\n",
    "dy += ((1 - sigy) * sigy) * dsigy"
   ]
  },
  {
   "cell_type": "code",
   "execution_count": 21,
   "metadata": {},
   "outputs": [],
   "source": [
    "W = np.random.randn(5, 10)\n",
    "X = np.random.randn(10, 3)\n",
    "D = W.dot(X)\n",
    "\n",
    "dD = np.random.randn(*D.shape)\n",
    "dX = (W.T).dot(dD)\n",
    "dW = dD.dot(X.T)"
   ]
  },
  {
   "cell_type": "code",
   "execution_count": null,
   "metadata": {},
   "outputs": [],
   "source": []
  }
 ],
 "metadata": {
  "kernelspec": {
   "display_name": "Python 3.7.4 64-bit ('cs231n': venv)",
   "language": "python",
   "name": "python37464bitcs231nvenvc0f208fee8534db4965080240acd3921"
  },
  "language_info": {
   "codemirror_mode": {
    "name": "ipython",
    "version": 3
   },
   "file_extension": ".py",
   "mimetype": "text/x-python",
   "name": "python",
   "nbconvert_exporter": "python",
   "pygments_lexer": "ipython3",
   "version": "3.7.4-final"
  }
 },
 "nbformat": 4,
 "nbformat_minor": 4
}